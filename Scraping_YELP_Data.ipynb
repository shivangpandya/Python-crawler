{
 "cells": [
  {
   "cell_type": "code",
   "execution_count": 12,
   "metadata": {},
   "outputs": [
    {
     "name": "stdout",
     "output_type": "stream",
     "text": [
      "Pair: 30 0.0\n",
      "Pair: 20 0.0\n",
      "Pair: 150 0.0\n",
      "Pair: 100 0.0\n",
      "Pair: 40 0.0\n"
     ]
    }
   ],
   "source": [
    "#YELP API KEY\n",
    "key = 'LW5TQycXHtUv6NRAJj5UJjux2NwJs421EzSCIXFhh2lfJkNb6qX9EK01_obELUSHVhXFNMcg2FX32tZt7PvW6RhH7Pt8rYzmKR29aZFMmjs16t6iLG3EU1SwGkFgXnYx'\n",
    "client_id ='ZrztZjgPAr1k2UEfEmv4DQ'\n",
    "\n",
    "\n"
   ]
  },
  {
   "cell_type": "code",
   "execution_count": 44,
   "metadata": {},
   "outputs": [],
   "source": [
    "import bs4 as bs\n",
    "import urllib.request as url"
   ]
  },
  {
   "cell_type": "code",
   "execution_count": 45,
   "metadata": {},
   "outputs": [],
   "source": [
    "source = url.urlopen('https://www.yelp.com/search?find_desc=Indian%20Food&find_loc=Manhattan')"
   ]
  },
  {
   "cell_type": "code",
   "execution_count": 46,
   "metadata": {},
   "outputs": [],
   "source": [
    "page_soup = bs.BeautifulSoup(source,'html.parser')"
   ]
  },
  {
   "cell_type": "code",
   "execution_count": 47,
   "metadata": {},
   "outputs": [],
   "source": [
    "mains = page_soup.find_all(\"div\"  ,  {\"class\" :\"lemon--div__373c0__1mboc mainAttributes__373c0__1r0QA arrange-unit__373c0__o3tjT arrange-unit-fill__373c0__3Sfw1 border-color--default__373c0__3-ifU\" })"
   ]
  },
  {
   "cell_type": "code",
   "execution_count": 48,
   "metadata": {},
   "outputs": [
    {
     "data": {
      "text/plain": [
       "<div class=\"lemon--div__373c0__1mboc mainAttributes__373c0__1r0QA arrange-unit__373c0__o3tjT arrange-unit-fill__373c0__3Sfw1 border-color--default__373c0__3-ifU\"><div class=\"lemon--div__373c0__1mboc border-color--default__373c0__3-ifU\"><div class=\"lemon--div__373c0__1mboc border-color--default__373c0__3-ifU\"><div class=\"lemon--div__373c0__1mboc businessNameWithNoVerifiedBadge__373c0__24q4s display--inline-block__373c0__1ZKqC border-color--default__373c0__3-ifU\"><div class=\"lemon--div__373c0__1mboc border-color--default__373c0__3-ifU\"><h4 class=\"lemon--h4__373c0__1yd__ heading--h4__373c0__27bDo alternate__373c0__2Mge5\"><span class=\"lemon--span__373c0__3997G text__373c0__2Kxyz text-color--black-regular__373c0__2vGEn text-align--left__373c0__2XGa- text-weight--bold__373c0__1elNz text-size--inherit__373c0__2fB3p\"><a class=\"lemon--a__373c0__IEZFH link__373c0__1G70M link-color--inherit__373c0__3dzpk link-size--inherit__373c0__1VFlE\" href=\"/adredir?ad_business_id=pFUV3Wc-c-U3yuJBjCkcvQ&amp;campaign_id=D7giV5XqXp9a_wHtixfXHA&amp;click_origin=search_results&amp;placement=above_search&amp;redirect_url=https%3A%2F%2Fwww.yelp.com%2Fbiz%2Fjuiceade-bronx-2&amp;request_id=00658791d15e1208&amp;signature=200e6bef83cd426741870e08ba77d08a10e75170558fa7bc7b10d174937226cd&amp;slot=0\" name=\"Juiceade\" rel=\"\" target=\"\">Juiceade</a></span></h4></div></div></div><div class=\"lemon--div__373c0__1mboc border-color--default__373c0__3-ifU\"><div class=\"lemon--div__373c0__1mboc display--inline-block__373c0__1ZKqC border-color--default__373c0__3-ifU\"><div class=\"lemon--div__373c0__1mboc border-color--default__373c0__3-ifU\"><div class=\"lemon--div__373c0__1mboc attribute__373c0__1hPI_ display--inline-block__373c0__1ZKqC margin-r1__373c0__zyKmV border-color--default__373c0__3-ifU\"><span class=\"lemon--span__373c0__3997G display--inline__373c0__3JqBP border-color--default__373c0__3-ifU\"><div aria-label=\"5 star rating\" class=\"lemon--div__373c0__1mboc i-stars__373c0__tb0kH i-stars--regular-5__373c0__32lcZ border-color--default__373c0__3-ifU overflow--hidden__373c0__2y4YK\" role=\"img\"><img alt=\"\" class=\"lemon--img__373c0__3GQUb offscreen__373c0__1KofL\" height=\"560\" src=\"https://s3-media0.fl.yelpcdn.com/assets/public/stars_v2.yelp_design_web.yji-52d3d7a328db670d4402843cbddeed89.png\" width=\"132\"/></div></span></div><div class=\"lemon--div__373c0__1mboc attribute__373c0__1hPI_ display--inline-block__373c0__1ZKqC border-color--default__373c0__3-ifU\"><span class=\"lemon--span__373c0__3997G text__373c0__2Kxyz reviewCount__373c0__2r4xT text-color--black-extra-light__373c0__2OyzO text-align--left__373c0__2XGa-\">3</span></div></div></div></div><div class=\"lemon--div__373c0__1mboc border-color--default__373c0__3-ifU\"><div class=\"lemon--div__373c0__1mboc priceCategory__373c0__3zW0R display--inline-block__373c0__1ZKqC border-color--default__373c0__3-ifU\"><div class=\"lemon--div__373c0__1mboc border-color--default__373c0__3-ifU\"><span class=\"lemon--span__373c0__3997G display--inline__373c0__3JqBP border-color--default__373c0__3-ifU\"><span class=\"lemon--span__373c0__3997G display--inline__373c0__3JqBP border-color--default__373c0__3-ifU\"><span class=\"lemon--span__373c0__3997G text__373c0__2Kxyz text-color--black-extra-light__373c0__2OyzO text-align--left__373c0__2XGa-\"><a class=\"lemon--a__373c0__IEZFH link__373c0__1G70M link-color--inherit__373c0__3dzpk link-size--default__373c0__7tls6\" href=\"/search?cflt=tacos&amp;find_desc=Indian+Food&amp;find_loc=Manhattan\" name=\"\" rel=\"\" role=\"link\" target=\"\">Tacos</a>, </span></span><span class=\"lemon--span__373c0__3997G display--inline__373c0__3JqBP border-color--default__373c0__3-ifU\"><span class=\"lemon--span__373c0__3997G text__373c0__2Kxyz text-color--black-extra-light__373c0__2OyzO text-align--left__373c0__2XGa-\"><a class=\"lemon--a__373c0__IEZFH link__373c0__1G70M link-color--inherit__373c0__3dzpk link-size--default__373c0__7tls6\" href=\"/search?cflt=juicebars&amp;find_desc=Indian+Food&amp;find_loc=Manhattan\" name=\"\" rel=\"\" role=\"link\" target=\"\">Juice Bars &amp; Smoothies</a>, </span></span><span class=\"lemon--span__373c0__3997G display--inline__373c0__3JqBP border-color--default__373c0__3-ifU\"><span class=\"lemon--span__373c0__3997G text__373c0__2Kxyz text-color--black-extra-light__373c0__2OyzO text-align--left__373c0__2XGa-\"><a class=\"lemon--a__373c0__IEZFH link__373c0__1G70M link-color--inherit__373c0__3dzpk link-size--default__373c0__7tls6\" href=\"/search?cflt=vegan&amp;find_desc=Indian+Food&amp;find_loc=Manhattan\" name=\"\" rel=\"\" role=\"link\" target=\"\">Vegan</a></span></span></span></div></div></div></div></div>"
      ]
     },
     "execution_count": 48,
     "metadata": {},
     "output_type": "execute_result"
    }
   ],
   "source": [
    "main = mains[0]\n",
    "main"
   ]
  },
  {
   "cell_type": "code",
   "execution_count": 97,
   "metadata": {},
   "outputs": [
    {
     "name": "stdout",
     "output_type": "stream",
     "text": [
      "Restaurant Name:Baar Baar\n"
     ]
    }
   ],
   "source": [
    "busname = main.find(\"a\").text\n",
    "print(\"Restaurant Name:\" + busname)\n"
   ]
  },
  {
   "cell_type": "code",
   "execution_count": 98,
   "metadata": {},
   "outputs": [
    {
     "name": "stdout",
     "output_type": "stream",
     "text": [
      "Rest_Ratings:4 star rating\n"
     ]
    }
   ],
   "source": [
    "ratings = main.find(\"span\", {\"class\": \"lemon--span__373c0__3997G display--inline__373c0__3JqBP border-color--default__373c0__3-ifU\"}).div.get('aria-label')\n",
    "print(\"Rest_Ratings:\" + ratings)"
   ]
  },
  {
   "cell_type": "code",
   "execution_count": 99,
   "metadata": {},
   "outputs": [],
   "source": [
    "reviews = main.find()"
   ]
  },
  {
   "cell_type": "code",
   "execution_count": 100,
   "metadata": {},
   "outputs": [
    {
     "name": "stdout",
     "output_type": "stream",
     "text": [
      "Rest_Name:Juiceade\n",
      "Rest_Name:Bengal Tiger Indian Food\n",
      "Rest_Name:The MasalaWala\n",
      "Rest_Name:Pippali\n",
      "Rest_Name:Karahi Indian Cuisine\n",
      "Rest_Name:The Drunken Munkey - UES\n",
      "Rest_Name:Indian Accent\n",
      "Rest_Name:Cumin N Eat\n",
      "Rest_Name:Ashoka Indian Restaurant\n",
      "Rest_Name:Angaar\n",
      "Rest_Name:Zaika New York\n",
      "Rest_Name:Indian Project\n",
      "Rest_Name:Mughlai Grill\n",
      "Rest_Name:India at Time Square\n",
      "Rest_Name:Saar Indian Bistro\n",
      "Rest_Name:Darbar Grill\n",
      "Rest_Name:Darbar Fine Indian Cuisine\n",
      "Rest_Name:India Kitchen\n",
      "Rest_Name:Curry India\n",
      "Rest_Name:Bombay Grill House\n",
      "Rest_Name:Raju’s Drunk Munky\n",
      "Rest_Name:Rahi\n",
      "Rest_Name:Tamarind\n",
      "Rest_Name:Chola\n",
      "Rest_Name:deep indian kitchen - indikitch\n",
      "Rest_Name:Spice Symphony\n",
      "Rest_Name:Ashoka on 2nd Avenue\n",
      "Rest_Name:Patiala Indian Grill\n",
      "Rest_Name:Moti Mahal Delux\n",
      "Rest_Name:Adda Indian Canteen\n",
      "Rest_Name:Baar Baar\n"
     ]
    }
   ],
   "source": [
    "for main in mains:\n",
    "    try:\n",
    "        busname = main.find(\"a\").text\n",
    "        print(\"Rest_Name:\" + busname)\n",
    "    except:\n",
    "        print(None)"
   ]
  },
  {
   "cell_type": "code",
   "execution_count": 101,
   "metadata": {},
   "outputs": [
    {
     "data": {
      "text/plain": [
       "51"
      ]
     },
     "execution_count": 101,
     "metadata": {},
     "output_type": "execute_result"
    }
   ],
   "source": [
    "#Save in a file\n",
    "filename = \"yelp_INDIAN.csv\"\n",
    "\n",
    "f = open(filename, \"w\")\n",
    "\n",
    "header = \"Rest_Name, Rest_Ratings, Rest_Noreviews, Rest_Price\"\n",
    "\n",
    "f.write(header)"
   ]
  },
  {
   "cell_type": "code",
   "execution_count": 102,
   "metadata": {},
   "outputs": [
    {
     "name": "stdout",
     "output_type": "stream",
     "text": [
      "Rest_Name:Juiceade\n",
      "Rest_Ratings:5 star rating\n",
      "Rest_Number_of_reviews:3\n",
      "None\n",
      "Rest_Name:Bengal Tiger Indian Food\n",
      "Rest_Ratings:4.5 star rating\n",
      "Rest_Number_of_reviews:1887\n",
      "Rest_Price:$$\n",
      "Rest_Name:The MasalaWala\n",
      "Rest_Ratings:4.5 star rating\n",
      "Rest_Number_of_reviews:1477\n",
      "Rest_Price:$$\n",
      "Rest_Name:Pippali\n",
      "Rest_Ratings:4 star rating\n",
      "Rest_Number_of_reviews:768\n",
      "Rest_Price:$$\n",
      "Rest_Name:Karahi Indian Cuisine\n",
      "Rest_Ratings:5 star rating\n",
      "Rest_Number_of_reviews:22\n",
      "None\n",
      "Rest_Name:The Drunken Munkey - UES\n",
      "Rest_Ratings:4.5 star rating\n",
      "Rest_Number_of_reviews:999\n",
      "Rest_Price:$$\n",
      "Rest_Name:Indian Accent\n",
      "Rest_Ratings:4.5 star rating\n",
      "Rest_Number_of_reviews:570\n",
      "Rest_Price:$$$$\n",
      "Rest_Name:Cumin N Eat\n",
      "Rest_Ratings:5 star rating\n",
      "Rest_Number_of_reviews:2\n",
      "None\n",
      "Rest_Name:Ashoka Indian Restaurant\n",
      "Rest_Ratings:4.5 star rating\n",
      "Rest_Number_of_reviews:238\n",
      "Rest_Price:$$\n",
      "Rest_Name:Angaar\n",
      "Rest_Ratings:4.5 star rating\n",
      "Rest_Number_of_reviews:92\n",
      "Rest_Price:$$\n",
      "Rest_Name:Zaika New York\n",
      "Rest_Ratings:4.5 star rating\n",
      "Rest_Number_of_reviews:138\n",
      "Rest_Price:$$\n",
      "Rest_Name:Indian Project\n",
      "Rest_Ratings:4 star rating\n",
      "Rest_Number_of_reviews:327\n",
      "Rest_Price:$$\n",
      "Rest_Name:Mughlai Grill\n",
      "Rest_Ratings:4.5 star rating\n",
      "Rest_Number_of_reviews:345\n",
      "Rest_Price:$$\n",
      "Rest_Name:India at Time Square\n",
      "Rest_Ratings:4.5 star rating\n",
      "Rest_Number_of_reviews:55\n",
      "Rest_Price:$$\n",
      "Rest_Name:Saar Indian Bistro\n",
      "Rest_Ratings:4.5 star rating\n",
      "Rest_Number_of_reviews:184\n",
      "Rest_Price:$$\n",
      "Rest_Name:Darbar Grill\n",
      "Rest_Ratings:4 star rating\n",
      "Rest_Number_of_reviews:529\n",
      "Rest_Price:$$\n",
      "Rest_Name:Darbar Fine Indian Cuisine\n",
      "Rest_Ratings:4 star rating\n",
      "Rest_Number_of_reviews:568\n",
      "Rest_Price:$$\n",
      "Rest_Name:India Kitchen\n",
      "Rest_Ratings:4 star rating\n",
      "Rest_Number_of_reviews:301\n",
      "Rest_Price:$$\n",
      "Rest_Name:Curry India\n",
      "Rest_Ratings:4 star rating\n",
      "Rest_Number_of_reviews:143\n",
      "Rest_Price:$$\n",
      "Rest_Name:Bombay Grill House\n",
      "Rest_Ratings:4 star rating\n",
      "Rest_Number_of_reviews:256\n",
      "Rest_Price:$$\n",
      "Rest_Name:Raju’s Drunk Munky\n",
      "Rest_Ratings:4.5 star rating\n",
      "Rest_Number_of_reviews:179\n",
      "Rest_Price:$$\n",
      "Rest_Name:Rahi\n",
      "Rest_Ratings:4.5 star rating\n",
      "Rest_Number_of_reviews:455\n",
      "Rest_Price:$$$\n",
      "Rest_Name:Tamarind\n",
      "Rest_Ratings:4 star rating\n",
      "Rest_Number_of_reviews:917\n",
      "Rest_Price:$$$\n",
      "Rest_Name:Chola\n",
      "Rest_Ratings:4 star rating\n",
      "Rest_Number_of_reviews:597\n",
      "Rest_Price:$$\n",
      "Rest_Name:deep indian kitchen - indikitch\n",
      "Rest_Ratings:4 star rating\n",
      "Rest_Number_of_reviews:444\n",
      "Rest_Price:$$\n",
      "Rest_Name:Spice Symphony\n",
      "Rest_Ratings:4.5 star rating\n",
      "Rest_Number_of_reviews:476\n",
      "Rest_Price:$$\n",
      "Rest_Name:Ashoka on 2nd Avenue\n",
      "Rest_Ratings:4.5 star rating\n",
      "Rest_Number_of_reviews:132\n",
      "Rest_Price:$$\n",
      "Rest_Name:Patiala Indian Grill\n",
      "Rest_Ratings:4 star rating\n",
      "Rest_Number_of_reviews:319\n",
      "Rest_Price:$$\n",
      "Rest_Name:Moti Mahal Delux\n",
      "Rest_Ratings:4 star rating\n",
      "Rest_Number_of_reviews:470\n",
      "Rest_Price:$$\n",
      "Rest_Name:Adda Indian Canteen\n",
      "Rest_Ratings:4 star rating\n",
      "Rest_Number_of_reviews:316\n",
      "Rest_Price:$$\n",
      "Rest_Name:Baar Baar\n",
      "Rest_Ratings:4 star rating\n",
      "Rest_Number_of_reviews:726\n",
      "Rest_Price:$$$\n"
     ]
    }
   ],
   "source": [
    "for main in mains:\n",
    "    try:\n",
    "        busname = main.find(\"a\").text\n",
    "        print(\"Rest_Name:\" + busname)\n",
    "    except:\n",
    "        print(None)\n",
    "    try:\n",
    "        ratings = main.find(\"span\", {\"class\": \"lemon--span__373c0__3997G display--inline__373c0__3JqBP border-color--default__373c0__3-ifU\"}).div.get('aria-label')\n",
    "        print(\"Rest_Ratings:\" + ratings)\n",
    "    except:\n",
    "        print(None)\n",
    "    try:\n",
    "        noreviews = main.find(\"span\", {\"class\": \"lemon--span__373c0__3997G text__373c0__2Kxyz reviewCount__373c0__2r4xT text-color--black-extra-light__373c0__2OyzO text-align--left__373c0__2XGa-\"}).text\n",
    "        print(\"Rest_Number_of_reviews:\" + noreviews)\n",
    "    except:\n",
    "        print(None)\n",
    "    try:\n",
    "        price = main.find(\"span\", {\"class\": \"lemon--span__373c0__3997G text__373c0__2Kxyz priceRange__373c0__2DY87 text-color--black-extra-light__373c0__2OyzO text-align--left__373c0__2XGa- text-bullet--after__373c0__3fS1Z\"}).text\n",
    "        print(\"Rest_Price:\" + price)\n",
    "    except:\n",
    "        print(None) \n",
    "    f.write(\"\\n\" + busname + \",\" + ratings + \",\" + noreviews + \",\" + price)\n",
    "    \n",
    "f.close()"
   ]
  },
  {
   "cell_type": "code",
   "execution_count": null,
   "metadata": {},
   "outputs": [],
   "source": []
  },
  {
   "cell_type": "code",
   "execution_count": null,
   "metadata": {},
   "outputs": [],
   "source": []
  },
  {
   "cell_type": "code",
   "execution_count": null,
   "metadata": {},
   "outputs": [],
   "source": []
  }
 ],
 "metadata": {
  "kernelspec": {
   "display_name": "Python 3",
   "language": "python",
   "name": "python3"
  },
  "language_info": {
   "codemirror_mode": {
    "name": "ipython",
    "version": 3
   },
   "file_extension": ".py",
   "mimetype": "text/x-python",
   "name": "python",
   "nbconvert_exporter": "python",
   "pygments_lexer": "ipython3",
   "version": "3.6.5"
  }
 },
 "nbformat": 4,
 "nbformat_minor": 2
}
